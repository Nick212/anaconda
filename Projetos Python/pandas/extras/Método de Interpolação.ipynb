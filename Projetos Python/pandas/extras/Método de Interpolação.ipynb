{
 "cells": [
  {
   "cell_type": "code",
   "execution_count": 1,
   "metadata": {},
   "outputs": [],
   "source": [
    "import pandas as pd"
   ]
  },
  {
   "cell_type": "code",
   "execution_count": 2,
   "metadata": {},
   "outputs": [
    {
     "output_type": "execute_result",
     "data": {
      "text/plain": "0     0.50\n1      NaN\n2      NaN\n3     0.52\n4     0.54\n5      NaN\n6      NaN\n7     0.59\n8     0.60\n9      NaN\n10    0.70\ndtype: float64"
     },
     "metadata": {},
     "execution_count": 2
    }
   ],
   "source": [
    "data = [0.5, None, None, 0.52, 0.54, None, None, 0.59, 0.6, None, 0.7]\n",
    "s = pd.Series(data)\n",
    "s"
   ]
  },
  {
   "cell_type": "code",
   "execution_count": 3,
   "metadata": {},
   "outputs": [
    {
     "output_type": "execute_result",
     "data": {
      "text/plain": "0     0.50\n1     0.00\n2     0.00\n3     0.52\n4     0.54\n5     0.00\n6     0.00\n7     0.59\n8     0.60\n9     0.00\n10    0.70\ndtype: float64"
     },
     "metadata": {},
     "execution_count": 3
    }
   ],
   "source": [
    "s.fillna(0)"
   ]
  },
  {
   "cell_type": "code",
   "execution_count": 5,
   "metadata": {},
   "outputs": [
    {
     "output_type": "execute_result",
     "data": {
      "text/plain": "0     0.50\n1     0.50\n2     0.50\n3     0.52\n4     0.54\n5     0.54\n6     0.54\n7     0.59\n8     0.60\n9     0.60\n10    0.70\ndtype: float64"
     },
     "metadata": {},
     "execution_count": 5
    }
   ],
   "source": [
    "## Quando o valor for Nulo ou NaN o método ffill substitui o valor Nan pelo último valor da sério (sequência de cima pra baixo)\n",
    "s.fillna(method = 'ffill')\n"
   ]
  },
  {
   "cell_type": "code",
   "execution_count": 7,
   "metadata": {},
   "outputs": [
    {
     "output_type": "execute_result",
     "data": {
      "text/plain": "0     0.50\n1     0.52\n2     0.52\n3     0.52\n4     0.54\n5     0.59\n6     0.59\n7     0.59\n8     0.60\n9     0.70\n10    0.70\ndtype: float64"
     },
     "metadata": {},
     "execution_count": 7
    }
   ],
   "source": [
    "## Quando o valor for Nulo ou NaN o método ffill substitui o valor Nan pelo último valor da sério (sequência de baixo pra cima  )\n",
    "s.fillna(method = 'bfill')\n"
   ]
  },
  {
   "cell_type": "code",
   "execution_count": 8,
   "metadata": {},
   "outputs": [
    {
     "output_type": "execute_result",
     "data": {
      "text/plain": "0     0.500\n1     0.575\n2     0.575\n3     0.520\n4     0.540\n5     0.575\n6     0.575\n7     0.590\n8     0.600\n9     0.575\n10    0.700\ndtype: float64"
     },
     "metadata": {},
     "execution_count": 8
    }
   ],
   "source": [
    "## Quando o valor for Nulo ou NaN o método ffill substitui o valor Nan pela média da série  (sequência de baixo pra cima  )\n",
    "s.fillna(s.mean())\n"
   ]
  },
  {
   "cell_type": "code",
   "execution_count": null,
   "metadata": {},
   "outputs": [],
   "source": [
    "## Quando o valor for Nulo ou NaN o método ffill substitui o valor Nan pelo último valor da sério (sequência de cima pra baixo)\n",
    "s.fillna(method = 'ffill', limit = 1)"
   ]
  }
 ],
 "metadata": {
  "language_info": {
   "codemirror_mode": {
    "name": "ipython",
    "version": 3
   },
   "file_extension": ".py",
   "mimetype": "text/x-python",
   "name": "python",
   "nbconvert_exporter": "python",
   "pygments_lexer": "ipython3",
   "version": "3.8.2-final"
  },
  "orig_nbformat": 2,
  "kernelspec": {
   "name": "python3",
   "display_name": "Python 3"
  }
 },
 "nbformat": 4,
 "nbformat_minor": 2
}