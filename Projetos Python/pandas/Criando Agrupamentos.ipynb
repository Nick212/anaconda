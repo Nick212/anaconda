{
 "cells": [
  {
   "cell_type": "markdown",
   "metadata": {},
   "source": [
    "# Relatório de Análise VII"
   ]
  },
  {
   "cell_type": "markdown",
   "metadata": {},
   "source": [
    "## Criando Agrupamentos"
   ]
  },
  {
   "cell_type": "code",
   "execution_count": 1,
   "metadata": {},
   "outputs": [],
   "source": [
    "import pandas as pd"
   ]
  },
  {
   "cell_type": "code",
   "execution_count": 2,
   "metadata": {},
   "outputs": [
    {
     "output_type": "execute_result",
     "data": {
      "text/plain": "                      Tipo           Bairro  Quartos  Vagas  Suites  Area  \\\n0                Quitinete       Copacabana        1      0       0    40   \n1                     Casa  Jardim Botânico        2      0       1   100   \n2  Conjunto Comercial/Sala  Barra da Tijuca        0      4       0   150   \n3              Apartamento           Centro        1      0       0    15   \n4              Apartamento     Higienópolis        1      0       0    48   \n5              Apartamento     Vista Alegre        3      1       0    70   \n6              Apartamento         Cachambi        2      0       0    50   \n7       Casa de Condomínio  Barra da Tijuca        5      4       5   750   \n8       Casa de Condomínio            Ramos        2      2       0    65   \n9  Conjunto Comercial/Sala           Centro        0      3       0   695   \n\n     Valor  Condominio    IPTU  \n0   1700.0       500.0    60.0  \n1   7000.0         NaN     NaN  \n2   5200.0      4020.0  1111.0  \n3    800.0       390.0    20.0  \n4    800.0       230.0     NaN  \n5   1200.0         NaN     NaN  \n6   1300.0       301.0    17.0  \n7  22000.0         NaN     NaN  \n8   1000.0         NaN     NaN  \n9  35000.0     19193.0  3030.0  ",
      "text/html": "<div>\n<style scoped>\n    .dataframe tbody tr th:only-of-type {\n        vertical-align: middle;\n    }\n\n    .dataframe tbody tr th {\n        vertical-align: top;\n    }\n\n    .dataframe thead th {\n        text-align: right;\n    }\n</style>\n<table border=\"1\" class=\"dataframe\">\n  <thead>\n    <tr style=\"text-align: right;\">\n      <th></th>\n      <th>Tipo</th>\n      <th>Bairro</th>\n      <th>Quartos</th>\n      <th>Vagas</th>\n      <th>Suites</th>\n      <th>Area</th>\n      <th>Valor</th>\n      <th>Condominio</th>\n      <th>IPTU</th>\n    </tr>\n  </thead>\n  <tbody>\n    <tr>\n      <th>0</th>\n      <td>Quitinete</td>\n      <td>Copacabana</td>\n      <td>1</td>\n      <td>0</td>\n      <td>0</td>\n      <td>40</td>\n      <td>1700.0</td>\n      <td>500.0</td>\n      <td>60.0</td>\n    </tr>\n    <tr>\n      <th>1</th>\n      <td>Casa</td>\n      <td>Jardim Botânico</td>\n      <td>2</td>\n      <td>0</td>\n      <td>1</td>\n      <td>100</td>\n      <td>7000.0</td>\n      <td>NaN</td>\n      <td>NaN</td>\n    </tr>\n    <tr>\n      <th>2</th>\n      <td>Conjunto Comercial/Sala</td>\n      <td>Barra da Tijuca</td>\n      <td>0</td>\n      <td>4</td>\n      <td>0</td>\n      <td>150</td>\n      <td>5200.0</td>\n      <td>4020.0</td>\n      <td>1111.0</td>\n    </tr>\n    <tr>\n      <th>3</th>\n      <td>Apartamento</td>\n      <td>Centro</td>\n      <td>1</td>\n      <td>0</td>\n      <td>0</td>\n      <td>15</td>\n      <td>800.0</td>\n      <td>390.0</td>\n      <td>20.0</td>\n    </tr>\n    <tr>\n      <th>4</th>\n      <td>Apartamento</td>\n      <td>Higienópolis</td>\n      <td>1</td>\n      <td>0</td>\n      <td>0</td>\n      <td>48</td>\n      <td>800.0</td>\n      <td>230.0</td>\n      <td>NaN</td>\n    </tr>\n    <tr>\n      <th>5</th>\n      <td>Apartamento</td>\n      <td>Vista Alegre</td>\n      <td>3</td>\n      <td>1</td>\n      <td>0</td>\n      <td>70</td>\n      <td>1200.0</td>\n      <td>NaN</td>\n      <td>NaN</td>\n    </tr>\n    <tr>\n      <th>6</th>\n      <td>Apartamento</td>\n      <td>Cachambi</td>\n      <td>2</td>\n      <td>0</td>\n      <td>0</td>\n      <td>50</td>\n      <td>1300.0</td>\n      <td>301.0</td>\n      <td>17.0</td>\n    </tr>\n    <tr>\n      <th>7</th>\n      <td>Casa de Condomínio</td>\n      <td>Barra da Tijuca</td>\n      <td>5</td>\n      <td>4</td>\n      <td>5</td>\n      <td>750</td>\n      <td>22000.0</td>\n      <td>NaN</td>\n      <td>NaN</td>\n    </tr>\n    <tr>\n      <th>8</th>\n      <td>Casa de Condomínio</td>\n      <td>Ramos</td>\n      <td>2</td>\n      <td>2</td>\n      <td>0</td>\n      <td>65</td>\n      <td>1000.0</td>\n      <td>NaN</td>\n      <td>NaN</td>\n    </tr>\n    <tr>\n      <th>9</th>\n      <td>Conjunto Comercial/Sala</td>\n      <td>Centro</td>\n      <td>0</td>\n      <td>3</td>\n      <td>0</td>\n      <td>695</td>\n      <td>35000.0</td>\n      <td>19193.0</td>\n      <td>3030.0</td>\n    </tr>\n  </tbody>\n</table>\n</div>"
     },
     "metadata": {},
     "execution_count": 2
    }
   ],
   "source": [
    "dados = pd.read_csv('dados/aluguel_residencial.csv', sep=';')\n",
    "dados.head(10)"
   ]
  },
  {
   "cell_type": "markdown",
   "metadata": {},
   "source": [
    "# Estatisticas Descritiva\n",
    "#### https://pandas.pydata.org/pandas-docs/stable/api.html#api-dataframe-stats"
   ]
  },
  {
   "cell_type": "code",
   "execution_count": 3,
   "metadata": {},
   "outputs": [
    {
     "output_type": "execute_result",
     "data": {
      "text/plain": "12952.659715265761"
     },
     "metadata": {},
     "execution_count": 3
    }
   ],
   "source": [
    "## Media geral\n",
    "dados['Valor'].mean()"
   ]
  },
  {
   "cell_type": "code",
   "execution_count": 4,
   "metadata": {},
   "outputs": [
    {
     "output_type": "execute_result",
     "data": {
      "text/plain": "0         Copacabana\n1    Jardim Botânico\n2    Barra da Tijuca\n3             Centro\n4       Higienópolis\n5       Vista Alegre\n6           Cachambi\nName: Bairro, dtype: object"
     },
     "metadata": {},
     "execution_count": 4
    }
   ],
   "source": [
    "## Media por Bairro\n",
    "bairros = ['Copacabana', 'Jardim Botânico', 'Barra da Tijuca', 'Centro','Higienópolis', 'Vista Alegre', 'Cachambi']\n",
    "selecao = dados['Bairro'].isin(bairros)\n",
    "dados = dados[selecao]\n",
    "dados['Bairro'].drop_duplicates()"
   ]
  },
  {
   "cell_type": "code",
   "execution_count": 5,
   "metadata": {},
   "outputs": [
    {
     "output_type": "execute_result",
     "data": {
      "text/plain": "pandas.core.groupby.generic.DataFrameGroupBy"
     },
     "metadata": {},
     "execution_count": 5
    }
   ],
   "source": [
    "grupo_bairro = dados.groupby('Bairro')\n",
    "type(grupo_bairro)"
   ]
  },
  {
   "cell_type": "code",
   "execution_count": 6,
   "metadata": {},
   "outputs": [
    {
     "output_type": "execute_result",
     "data": {
      "text/plain": "{'Barra da Tijuca': Int64Index([    2,     7,    20,    22,    30,    35,    41,    44,    49,\n                59,\n             ...\n             32922, 32923, 32924, 32927, 32939, 32940, 32941, 32942, 32943,\n             32952],\n            dtype='int64', length=6259),\n 'Cachambi': Int64Index([    6,    77,   369,   377,   783,   943,  2079,  2533,  2559,\n              2805,\n             ...\n             29624, 29975, 30349, 30729, 31301, 31377, 32360, 32403, 32434,\n             32642],\n            dtype='int64', length=163),\n 'Centro': Int64Index([    3,     9,    10,    38,    45,    46,    52,    54,    72,\n                86,\n             ...\n             32896, 32913, 32917, 32931, 32937, 32946, 32948, 32954, 32955,\n             32959],\n            dtype='int64', length=3258),\n 'Copacabana': Int64Index([    0,    13,    14,    15,    33,    34,    39,    43,    58,\n               123,\n             ...\n             32790, 32799, 32826, 32838, 32892, 32900, 32916, 32936, 32938,\n             32945],\n            dtype='int64', length=3186),\n 'Higienópolis': Int64Index([    4,  1136,  1445,  3170,  3288,  5122,  6001,  6663, 10823,\n             12171, 13009, 13136, 13813, 14955, 15939, 17125, 17332, 19844,\n             20071, 21519, 22782, 22983, 25630, 25713, 27315, 27919, 27989,\n             29056, 29272, 29389, 29458, 31696],\n            dtype='int64'),\n 'Jardim Botânico': Int64Index([    1,    53,    75,    79,   468,   489,   529,   663,   664,\n               733,\n             ...\n             32235, 32296, 32301, 32336, 32409, 32561, 32704, 32723, 32868,\n             32920],\n            dtype='int64', length=350),\n 'Vista Alegre': Int64Index([    5,  1534,  3139,  3986,  4966,  8034, 14567, 14832, 15010,\n             16465, 17279, 17823, 19374, 20453, 22791, 26030, 30180, 30781,\n             31620, 31649, 31650, 32288],\n            dtype='int64')}"
     },
     "metadata": {},
     "execution_count": 6
    }
   ],
   "source": [
    "## Indexação do Dataframe\n",
    "grupo_bairro.groups"
   ]
  },
  {
   "cell_type": "code",
   "execution_count": 7,
   "metadata": {},
   "outputs": [
    {
     "output_type": "stream",
     "name": "stdout",
     "text": "Barra da Tijuca -> 9019.59\nCachambi -> 1855.44\nCentro -> 19004.97\nCopacabana -> 4509.83\nHigienópolis -> 2525.0\nJardim Botânico -> 8779.8\nVista Alegre -> 1128.64\n"
    }
   ],
   "source": [
    "## Valor Médio por Grupo específico\n",
    "for bairro, data in grupo_bairro:\n",
    "    print('{} -> {}'.format(bairro, data.Valor.mean().round(2)))"
   ]
  },
  {
   "cell_type": "code",
   "execution_count": 8,
   "metadata": {},
   "outputs": [
    {
     "output_type": "execute_result",
     "data": {
      "text/plain": "Bairro\nBarra da Tijuca     9019.59\nCachambi            1855.44\nCentro             19004.97\nCopacabana          4509.83\nHigienópolis        2525.00\nJardim Botânico     8779.80\nVista Alegre        1128.64\nName: Valor, dtype: float64"
     },
     "metadata": {},
     "execution_count": 8
    }
   ],
   "source": [
    "## Valor Médio por Grupo específico (simplificado)\n",
    "grupo_bairro['Valor'].mean().round(2)"
   ]
  },
  {
   "cell_type": "code",
   "execution_count": 9,
   "metadata": {},
   "outputs": [
    {
     "output_type": "execute_result",
     "data": {
      "text/plain": "                    Valor  Condominio\nBairro                               \nBarra da Tijuca   9019.59     3599.17\nCachambi          1855.44      493.85\nCentro           19004.97     5247.40\nCopacabana        4509.83     1211.94\nHigienópolis      2525.00      212.00\nJardim Botânico   8779.80     1576.12\nVista Alegre      1128.64      224.07",
      "text/html": "<div>\n<style scoped>\n    .dataframe tbody tr th:only-of-type {\n        vertical-align: middle;\n    }\n\n    .dataframe tbody tr th {\n        vertical-align: top;\n    }\n\n    .dataframe thead th {\n        text-align: right;\n    }\n</style>\n<table border=\"1\" class=\"dataframe\">\n  <thead>\n    <tr style=\"text-align: right;\">\n      <th></th>\n      <th>Valor</th>\n      <th>Condominio</th>\n    </tr>\n    <tr>\n      <th>Bairro</th>\n      <th></th>\n      <th></th>\n    </tr>\n  </thead>\n  <tbody>\n    <tr>\n      <th>Barra da Tijuca</th>\n      <td>9019.59</td>\n      <td>3599.17</td>\n    </tr>\n    <tr>\n      <th>Cachambi</th>\n      <td>1855.44</td>\n      <td>493.85</td>\n    </tr>\n    <tr>\n      <th>Centro</th>\n      <td>19004.97</td>\n      <td>5247.40</td>\n    </tr>\n    <tr>\n      <th>Copacabana</th>\n      <td>4509.83</td>\n      <td>1211.94</td>\n    </tr>\n    <tr>\n      <th>Higienópolis</th>\n      <td>2525.00</td>\n      <td>212.00</td>\n    </tr>\n    <tr>\n      <th>Jardim Botânico</th>\n      <td>8779.80</td>\n      <td>1576.12</td>\n    </tr>\n    <tr>\n      <th>Vista Alegre</th>\n      <td>1128.64</td>\n      <td>224.07</td>\n    </tr>\n  </tbody>\n</table>\n</div>"
     },
     "metadata": {},
     "execution_count": 9
    }
   ],
   "source": [
    "## Valor Médio por Grupo específico com Dataframe (simplificado)\n",
    "grupo_bairro[['Valor', 'Condominio']].mean().round(2)"
   ]
  },
  {
   "cell_type": "markdown",
   "metadata": {},
   "source": [
    "## Estatisticas Descritiva\n"
   ]
  },
  {
   "cell_type": "code",
   "execution_count": 10,
   "metadata": {},
   "outputs": [
    {
     "output_type": "execute_result",
     "data": {
      "text/plain": "                  count      mean       std     min     25%     50%      75%  \\\nBairro                                                                         \nBarra da Tijuca  6256.0   9019.59  30192.24   100.0  2000.0  3500.0   8000.0   \nCachambi          163.0   1855.44   3140.41   450.0   900.0  1100.0   1400.0   \nCentro           3258.0  19004.97  59355.76    90.0  1000.0  3705.5  15000.0   \nCopacabana       3185.0   4509.83   6413.41   100.0  1900.0  3000.0   4900.0   \nHigienópolis       32.0   2525.00   3988.88   650.0   800.0  1025.0   1600.0   \nJardim Botânico   350.0   8779.80  11680.25  1100.0  3000.0  4000.0   9425.0   \nVista Alegre       22.0   1128.64    273.24   700.0   937.5  1150.0   1200.0   \n\n                      max  \nBairro                     \nBarra da Tijuca  738197.0  \nCachambi          25000.0  \nCentro           950000.0  \nCopacabana       198000.0  \nHigienópolis      20000.0  \nJardim Botânico  120000.0  \nVista Alegre       2000.0  ",
      "text/html": "<div>\n<style scoped>\n    .dataframe tbody tr th:only-of-type {\n        vertical-align: middle;\n    }\n\n    .dataframe tbody tr th {\n        vertical-align: top;\n    }\n\n    .dataframe thead th {\n        text-align: right;\n    }\n</style>\n<table border=\"1\" class=\"dataframe\">\n  <thead>\n    <tr style=\"text-align: right;\">\n      <th></th>\n      <th>count</th>\n      <th>mean</th>\n      <th>std</th>\n      <th>min</th>\n      <th>25%</th>\n      <th>50%</th>\n      <th>75%</th>\n      <th>max</th>\n    </tr>\n    <tr>\n      <th>Bairro</th>\n      <th></th>\n      <th></th>\n      <th></th>\n      <th></th>\n      <th></th>\n      <th></th>\n      <th></th>\n      <th></th>\n    </tr>\n  </thead>\n  <tbody>\n    <tr>\n      <th>Barra da Tijuca</th>\n      <td>6256.0</td>\n      <td>9019.59</td>\n      <td>30192.24</td>\n      <td>100.0</td>\n      <td>2000.0</td>\n      <td>3500.0</td>\n      <td>8000.0</td>\n      <td>738197.0</td>\n    </tr>\n    <tr>\n      <th>Cachambi</th>\n      <td>163.0</td>\n      <td>1855.44</td>\n      <td>3140.41</td>\n      <td>450.0</td>\n      <td>900.0</td>\n      <td>1100.0</td>\n      <td>1400.0</td>\n      <td>25000.0</td>\n    </tr>\n    <tr>\n      <th>Centro</th>\n      <td>3258.0</td>\n      <td>19004.97</td>\n      <td>59355.76</td>\n      <td>90.0</td>\n      <td>1000.0</td>\n      <td>3705.5</td>\n      <td>15000.0</td>\n      <td>950000.0</td>\n    </tr>\n    <tr>\n      <th>Copacabana</th>\n      <td>3185.0</td>\n      <td>4509.83</td>\n      <td>6413.41</td>\n      <td>100.0</td>\n      <td>1900.0</td>\n      <td>3000.0</td>\n      <td>4900.0</td>\n      <td>198000.0</td>\n    </tr>\n    <tr>\n      <th>Higienópolis</th>\n      <td>32.0</td>\n      <td>2525.00</td>\n      <td>3988.88</td>\n      <td>650.0</td>\n      <td>800.0</td>\n      <td>1025.0</td>\n      <td>1600.0</td>\n      <td>20000.0</td>\n    </tr>\n    <tr>\n      <th>Jardim Botânico</th>\n      <td>350.0</td>\n      <td>8779.80</td>\n      <td>11680.25</td>\n      <td>1100.0</td>\n      <td>3000.0</td>\n      <td>4000.0</td>\n      <td>9425.0</td>\n      <td>120000.0</td>\n    </tr>\n    <tr>\n      <th>Vista Alegre</th>\n      <td>22.0</td>\n      <td>1128.64</td>\n      <td>273.24</td>\n      <td>700.0</td>\n      <td>937.5</td>\n      <td>1150.0</td>\n      <td>1200.0</td>\n      <td>2000.0</td>\n    </tr>\n  </tbody>\n</table>\n</div>"
     },
     "metadata": {},
     "execution_count": 10
    }
   ],
   "source": [
    "grupo_bairro['Valor'].describe().round(2)\n",
    "## count = frequência\n",
    "## mean = média\n",
    "## std = desvio padrão\n",
    "## min = valor min\n",
    "## 25% = primeiro partio (25% abaixo do valor real, 75% acima)\n",
    "## 50% = primeiro partio (50% abaixo do valor real, 50% acima) mediana\n",
    "## 75% = primeiro partio (75% abaixo do valor real, 25% acima)\n",
    "## max = Valor máximo q existe na tabela "
   ]
  },
  {
   "cell_type": "code",
   "execution_count": 11,
   "metadata": {},
   "outputs": [
    {
     "output_type": "execute_result",
     "data": {
      "text/plain": "                 Mínimo    Máximo        Soma\nBairro                                       \nBarra da Tijuca   100.0  738197.0  56426579.0\nCachambi          450.0   25000.0    302437.0\nCentro             90.0  950000.0  61918200.0\nCopacabana        100.0  198000.0  14363823.0\nHigienópolis      650.0   20000.0     80800.0\nJardim Botânico  1100.0  120000.0   3072930.0\nVista Alegre      700.0    2000.0     24830.0",
      "text/html": "<div>\n<style scoped>\n    .dataframe tbody tr th:only-of-type {\n        vertical-align: middle;\n    }\n\n    .dataframe tbody tr th {\n        vertical-align: top;\n    }\n\n    .dataframe thead th {\n        text-align: right;\n    }\n</style>\n<table border=\"1\" class=\"dataframe\">\n  <thead>\n    <tr style=\"text-align: right;\">\n      <th></th>\n      <th>Mínimo</th>\n      <th>Máximo</th>\n      <th>Soma</th>\n    </tr>\n    <tr>\n      <th>Bairro</th>\n      <th></th>\n      <th></th>\n      <th></th>\n    </tr>\n  </thead>\n  <tbody>\n    <tr>\n      <th>Barra da Tijuca</th>\n      <td>100.0</td>\n      <td>738197.0</td>\n      <td>56426579.0</td>\n    </tr>\n    <tr>\n      <th>Cachambi</th>\n      <td>450.0</td>\n      <td>25000.0</td>\n      <td>302437.0</td>\n    </tr>\n    <tr>\n      <th>Centro</th>\n      <td>90.0</td>\n      <td>950000.0</td>\n      <td>61918200.0</td>\n    </tr>\n    <tr>\n      <th>Copacabana</th>\n      <td>100.0</td>\n      <td>198000.0</td>\n      <td>14363823.0</td>\n    </tr>\n    <tr>\n      <th>Higienópolis</th>\n      <td>650.0</td>\n      <td>20000.0</td>\n      <td>80800.0</td>\n    </tr>\n    <tr>\n      <th>Jardim Botânico</th>\n      <td>1100.0</td>\n      <td>120000.0</td>\n      <td>3072930.0</td>\n    </tr>\n    <tr>\n      <th>Vista Alegre</th>\n      <td>700.0</td>\n      <td>2000.0</td>\n      <td>24830.0</td>\n    </tr>\n  </tbody>\n</table>\n</div>"
     },
     "metadata": {},
     "execution_count": 11
    }
   ],
   "source": [
    "grupo_bairro['Valor'].aggregate(['min', 'max', 'sum']).rename(columns = {'min': 'Mínimo', 'max':'Máximo', 'sum' :'Soma'})"
   ]
  },
  {
   "cell_type": "code",
   "execution_count": 21,
   "metadata": {},
   "outputs": [
    {
     "output_type": "error",
     "ename": "SyntaxError",
     "evalue": "invalid syntax (<ipython-input-21-bd058ac569ab>, line 7)",
     "traceback": [
      "\u001b[1;36m  File \u001b[1;32m\"<ipython-input-21-bd058ac569ab>\"\u001b[1;36m, line \u001b[1;32m7\u001b[0m\n\u001b[1;33m    plt.show()10))\u001b[0m\n\u001b[1;37m              ^\u001b[0m\n\u001b[1;31mSyntaxError\u001b[0m\u001b[1;31m:\u001b[0m invalid syntax\n"
     ]
    }
   ],
   "source": [
    "import matplotlib.pyplot as plt\n",
    "import matplotlib as mpl\n",
    "plt.rc('figure', figsize =(20, 10))10))"
   ]
  },
  {
   "cell_type": "code",
   "execution_count": null,
   "metadata": {},
   "outputs": [],
   "source": []
  }
 ],
 "metadata": {
  "language_info": {
   "codemirror_mode": {
    "name": "ipython",
    "version": 3
   },
   "file_extension": ".py",
   "mimetype": "text/x-python",
   "name": "python",
   "nbconvert_exporter": "python",
   "pygments_lexer": "ipython3",
   "version": "3.8.2-final"
  },
  "orig_nbformat": 2,
  "kernelspec": {
   "name": "python3",
   "display_name": "Python 3"
  }
 },
 "nbformat": 4,
 "nbformat_minor": 2
}